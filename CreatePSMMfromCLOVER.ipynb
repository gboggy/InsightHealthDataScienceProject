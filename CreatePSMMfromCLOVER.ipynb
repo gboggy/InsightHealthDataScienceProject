{
 "cells": [
  {
   "cell_type": "code",
   "execution_count": 1,
   "metadata": {
    "collapsed": true
   },
   "outputs": [],
   "source": [
    "# This block gets list of TF numerical labels\n",
    "\n",
    "import re, pandas as pd, numpy as np\n",
    "\n",
    "f = open(\"JASPAR_web.html\")\n",
    "alltext = f.read()\n",
    "f.close()\n",
    "mytuples = re.findall(\n",
    "    r'>\\s*(\\w+\\.\\w+)\\s*&nbsp;\\s*</td>\\s*\\n.*\\n'\n",
    "    '.*<!-.+->\\n'\n",
    "    '.*<td.+>\\s*(\\w+.*)\\s*&nbsp;\\s*</td>\\s*'\n",
    "    '\\n.*\\n.*<!-.+->\\s*\\n.*'\n",
    "    '<td.+Homo sapiens.+</td>',\n",
    "    alltext, re.MULTILINE)\n",
    "\n",
    "filenames = [thing[0] for thing in mytuples]"
   ]
  },
  {
   "cell_type": "code",
   "execution_count": 2,
   "metadata": {
    "collapsed": true
   },
   "outputs": [],
   "source": [
    "#  Create column names for PSMM data frame\n",
    "numsegments = 5\n",
    "\n",
    "featurenames=[]\n",
    "for file in filenames:\n",
    "    for i in list(range(numsegments)):\n",
    "        featurenames.append(file + '_' + str(i))"
   ]
  },
  {
   "cell_type": "code",
   "execution_count": 4,
   "metadata": {},
   "outputs": [],
   "source": [
    "# This block gets list of gene labels and names\n",
    "\n",
    "f = open(\"clover-2015-08-28/promresults.txt\")\n",
    "alltext = f.read()\n",
    "f.close()\n",
    "genes = re.findall(r'>(\\w+)\\s(\\w+)\\s+',alltext)"
   ]
  },
  {
   "cell_type": "code",
   "execution_count": 12,
   "metadata": {},
   "outputs": [
    {
     "name": "stdout",
     "output_type": "stream",
     "text": [
      "98.5694928169\n"
     ]
    }
   ],
   "source": [
    "import numpy as np\n",
    "import scipy as sp\n",
    "from numpy import allclose, arange, eye, linalg, ones, random\n",
    "import scipy.sparse.linalg.dsolve as linsolve\n",
    "from scipy import sparse\n",
    "import csv\n",
    "\n",
    "g = open(\"PSMM_5seg2.csv\",'w')\n",
    "writer = csv.writer(g, delimiter=',')\n",
    "\n",
    "# Copy from above\n",
    "import timeit\n",
    "\n",
    "numsegments = 5\n",
    "\n",
    "start = timeit.default_timer()\n",
    "\n",
    "#Your statements here\n",
    "\n",
    "f = open(\"clover-2015-08-28/promresults.txt\") #should be promresults (results from Clover run on promsequences.fa)\n",
    "\n",
    "ind = 0\n",
    "\n",
    "genevec = np.zeros(len(filenames)*numsegments, dtype=np.int)\n",
    "\n",
    "# Read line by line\n",
    "for line in f:\n",
    "\n",
    "\n",
    "# This if statement checks if the line is not like \"MA0081.1 SPIB   211 -  217\" --a TF\n",
    "    if re.findall(r'(\\w+\\.\\w+)\\s(\\w+\\(*.*\\)*)\\s+(\\d+)\\s+-\\s+(\\d+)',line)==[]:\n",
    "# This if checks if the line is not like this: \">FP011394 KCTD12_1\"---a new promoter\n",
    "        if re.findall(r'>(\\w+)\\s(\\w+)\\s+',line)==[]:\n",
    "# Must be a blank line (or not a line to be considered)\n",
    "            pass\n",
    "# Else could be \">FP011394 KCTD12_1\" pattern---a new promoter (make sure)\n",
    "        elif re.findall(r'>(\\w+)\\s(\\w+)\\s+',line)!=[]:            \n",
    "            gene = re.findall(r'>(\\w+)\\s(\\w+)\\s+',line)[0]\n",
    "            if ind >0:\n",
    "                writer.writerow(genevec)\n",
    "            genevec = np.zeros(len(filenames)*numsegments, dtype=np.int)\n",
    "            ind += 1\n",
    "        else:\n",
    "            pass\n",
    "# Else must be like \"MA0081.1 SPIB   211 -  217\"---the transcription factor result\n",
    "    else:\n",
    "        tf = re.findall(r'(\\w+\\.\\w+)\\s(\\w+\\(*.*\\)*)\\s+(\\d+)\\s+-\\s+(\\d+)',line)[0]\n",
    "        tfid, tfname, x, y = tf\n",
    "        tfcount = filenames.index(tfid)\n",
    "        if ((1000//numsegments-int(x)%(1000//numsegments)) >= (int(y)%(1000//numsegments))):\n",
    "            place = numsegments*tfcount + int(x)//(1000//numsegments)\n",
    "            genevec[place] = 1\n",
    "# To count, replace = above with +=\n",
    "        else:\n",
    "            place = numsegments*tfcount + int(y)//(1000//numsegments)\n",
    "            genevec[place] = 1\n",
    "# To count, replace = above with +=\n",
    "writer.writerow(genevec)\n",
    "f.close()\n",
    "\n",
    "stop = timeit.default_timer()\n",
    "\n",
    "print(stop - start)"
   ]
  },
  {
   "cell_type": "code",
   "execution_count": null,
   "metadata": {
    "collapsed": true
   },
   "outputs": [],
   "source": []
  }
 ],
 "metadata": {
  "kernelspec": {
   "display_name": "Python 2",
   "language": "python",
   "name": "python2"
  },
  "language_info": {
   "codemirror_mode": {
    "name": "ipython",
    "version": 2
   },
   "file_extension": ".py",
   "mimetype": "text/x-python",
   "name": "python",
   "nbconvert_exporter": "python",
   "pygments_lexer": "ipython2",
   "version": "2.7.13"
  }
 },
 "nbformat": 4,
 "nbformat_minor": 2
}
